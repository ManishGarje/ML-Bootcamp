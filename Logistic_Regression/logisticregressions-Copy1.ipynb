{
 "cells": [
  {
   "cell_type": "code",
   "execution_count": 16,
   "metadata": {},
   "outputs": [],
   "source": [
    "import numpy as np"
   ]
  },
  {
   "cell_type": "code",
   "execution_count": 17,
   "metadata": {},
   "outputs": [],
   "source": [
    "import matplotlib.pyplot as plt"
   ]
  },
  {
   "cell_type": "code",
   "execution_count": 18,
   "metadata": {},
   "outputs": [],
   "source": [
    "import pandas as pd\n",
    "\n",
    "#filename1=pd.read_csv(\"C:\\\\Users\\\\manis\\\\OneDrive - me.iitism.ac.in\\\\Desktop\\\\datasei11\\dataset1.csv\")"
   ]
  },
  {
   "cell_type": "code",
   "execution_count": 19,
   "metadata": {},
   "outputs": [],
   "source": [
    "import csv\n"
   ]
  },
  {
   "cell_type": "code",
   "execution_count": 20,
   "metadata": {},
   "outputs": [],
   "source": [
    "def loadcsv(filename):                                #function to read the .csv file \n",
    "    with open(filename,\"r\") as csv_file:\n",
    "        line=csv.reader(csv_file,delimiter=',')\n",
    "        dataset1=list(line)\n",
    "        for i in range(len(dataset1)):\n",
    "            dataset1[i]=[float(x) for x in dataset1[i]]     #converting the dataset into float datatype\n",
    "            k=np.array(dataset1).astype(np.float)           #creating the array of floaing type\n",
    "            return(k)"
   ]
  },
  {
   "cell_type": "code",
   "execution_count": 21,
   "metadata": {},
   "outputs": [],
   "source": [
    "def normalization_value(X):\n",
    "    #function used to normalize feature matrix,X  this later helps in calculation of probability\n",
    "    \n",
    "    mini=np.min(X,axis=0)\n",
    "    maxi=np.max(X,axis=0)\n",
    "    rang=maxi-mini\n",
    "    norm_x= 1- ((maxi-X)/rang) \n",
    "    return norm_x"
   ]
  },
  {
   "cell_type": "code",
   "execution_count": 22,
   "metadata": {},
   "outputs": [],
   "source": [
    "def SIGMOID_func(beta,X):\n",
    "#Defining the sigmoid function which is also {h(o)i}\n",
    "  return((1.00)/(1+np.exp(-np.dot(X,beta.T)))) # dot function is matrix multiplication ,also .T has transposed beta matrix\n"
   ]
  },
  {
   "cell_type": "code",
   "execution_count": 23,
   "metadata": {},
   "outputs": [],
   "source": [
    "def logi_grad(beta,X,y):\n",
    "    # this is the logistic gradient function delta\n",
    "    a=X.shape[0]\n",
    "    calc1=SIGMOID_func(beta,X)-y.reshape(a,-1) # this will reshape the matrix without changing its data\n",
    "    calc2=np.dot(calc1.T,X)   #.T function transposes the matrix\n",
    "    return(calc2) "
   ]
  },
  {
   "cell_type": "code",
   "execution_count": 24,
   "metadata": {},
   "outputs": [],
   "source": [
    "def costfunction(beta,X,y):   #defining the cost function\n",
    "    log_func_v= SIGMOID_func(beta,X)\n",
    "    y = np.squeeze(y)                          #converting to 0d array\n",
    "    step1= y*(np.log(log_func_v))   #J function working with y=1\n",
    "    step2= (1-y)*(np.log(1-log_func_v)) #J function working with y=0\n",
    "    Finalans= -step1-step2  #This is the J(Beta) cost  function\n",
    "    return(np.mean(Finalans))    "
   ]
  },
  {
   "cell_type": "code",
   "execution_count": 52,
   "metadata": {},
   "outputs": [],
   "source": [
    "def grad_desc(X,y,beta,lr=.01,converge_change=.001):\n",
    "    #gradient descent function\n",
    "  \n",
    "    cost = costfunction(beta, X, y)\n",
    "    change_cost = 1\n",
    "    num_iter = 1\n",
    "      \n",
    "    while(change_cost > converge_change):\n",
    "        old_cost = cost\n",
    "        beta = beta - (lr * logi_grad(beta, X, y))\n",
    "        cost = costfunction(beta, X, y)\n",
    "        change_cost = old_cost - cost\n",
    "        num_iter += 1\n",
    "      \n",
    "    return beta, num_iter \n",
    "        "
   ]
  },
  {
   "cell_type": "code",
   "execution_count": 53,
   "metadata": {},
   "outputs": [],
   "source": [
    "def predict(beta,X):\n",
    "    probability=SIGMOID_func(beta,X)\n",
    "    value=np.where(probability>=0.5,1,0)  # this line will find the value when probabilty is >=.5 [ 1or0] \n",
    "    return np.squeeze(value)"
   ]
  },
  {
   "cell_type": "code",
   "execution_count": 67,
   "metadata": {},
   "outputs": [],
   "source": [
    "def plotregline(X,y,beta):\n",
    "    x_0=X[np.where(y==0.0)]\n",
    "    x_1=X[np.where(y==1.0)]\n",
    "    plt.scatter([x_0[:,1]],[x_0[:,2]],c='y',label='y=0')\n",
    "    plt.scatter([x_1[:,1]],[x_1[:,2]],c='b',label='y=1')\n",
    "    \n",
    "    #plotting the regression boundary\n",
    "    x1=np.arange(0,1,0.1)\n",
    "    x2= -(beta[0,0]+ beta[0,1]*x1)/beta[0,2]\n",
    "    plt.plot(x1,x2,c='k',label='regression line')\n",
    "    \n",
    "    plt.xlabel('x1')\n",
    "    plt.ylabel('x2')\n",
    "   \n",
    "    plt.legend()\n",
    "    plt.show()"
   ]
  },
  {
   "cell_type": "code",
   "execution_count": 74,
   "metadata": {},
   "outputs": [],
   "source": [
    "def main():\n",
    "    \n",
    "    dataset1=loadcsv(\"Book2.csv\") #loading the csv file for data set\n",
    "    \n",
    "    X=normalization_value(dataset1[:,:-1]) # :-1 selects coloum  by 1 less ,normalizing the matrix\n",
    "    \n",
    "    X=np.hstack((np.matrix(np.ones(X.shape[0])).T,X))\n",
    "    \n",
    "    y=dataset1[:,-1]\n",
    "    \n",
    "    \n",
    "    beta=np.matrix(np.zeros(X.shape[1]))\n",
    "        \n",
    "    beta, num_iter=grad_desc(X,y,beta)\n",
    "     \n",
    "    print(\"EStimated coefficient:  \",beta)\n",
    "    print(\"no of iteration:  \",num_iter)\n",
    "        \n",
    "    y_pred= predict(beta,X)\n",
    "        \n",
    "    plotregline(X,y,beta)\n",
    "    "
   ]
  },
  {
   "cell_type": "code",
   "execution_count": 75,
   "metadata": {},
   "outputs": [],
   "source": [
    "if __name__==\"__name__\":\n",
    "    main()"
   ]
  },
  {
   "cell_type": "code",
   "execution_count": 76,
   "metadata": {
    "scrolled": false
   },
   "outputs": [
    {
     "name": "stdout",
     "output_type": "stream",
     "text": [
      "EStimated coefficient:   [[-5.84507788  5.18977804  4.88326109]]\n",
      "no of iteration:   898\n"
     ]
    },
    {
     "data": {
      "image/png": "[encoded data removed]",
      "text/plain": [
       "<Figure size 432x288 with 1 Axes>"
      ]
     },
     "metadata": {
      "needs_background": "light"
     },
     "output_type": "display_data"
    }
   ],
   "source": [
    "main()"
   ]
  },
  {
   "cell_type": "markdown",
   "metadata": {},
   "source": []
  },
  {
   "cell_type": "code",
   "execution_count": null,
   "metadata": {},
   "outputs": [],
   "source": []
  },
  {
   "cell_type": "code",
   "execution_count": null,
   "metadata": {},
   "outputs": [],
   "source": []
  },
  {
   "cell_type": "code",
   "execution_count": null,
   "metadata": {},
   "outputs": [],
   "source": []
  }
 ],
 "metadata": {
  "kernelspec": {
   "display_name": "Python 3",
   "language": "python",
   "name": "python3"
  },
  "language_info": {
   "codemirror_mode": {
    "name": "ipython",
    "version": 3
   },
   "file_extension": ".py",
   "mimetype": "text/x-python",
   "name": "python",
   "nbconvert_exporter": "python",
   "pygments_lexer": "ipython3",
   "version": "3.8.5"
  }
 },
 "nbformat": 4,
 "nbformat_minor": 4
}
