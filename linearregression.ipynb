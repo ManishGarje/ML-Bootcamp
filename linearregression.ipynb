{
 "cells": [
  {
   "cell_type": "code",
   "execution_count": 38,
   "metadata": {},
   "outputs": [],
   "source": [
    "import numpy as np"
   ]
  },
  {
   "cell_type": "code",
   "execution_count": 39,
   "metadata": {},
   "outputs": [],
   "source": [
    "import matplotlib.pyplot as plt"
   ]
  },
  {
   "cell_type": "code",
   "execution_count": 40,
   "metadata": {},
   "outputs": [],
   "source": [
    "def estimate_coef(x,y):\n",
    "    n=np.size(x)  #number of observations\n",
    "    m_x=np.mean(x) #mean of x \n",
    "    m_y= np.mean(y) #mean of y\n",
    "    #calculating cross-deviation about x\n",
    "    SS_xy = np.sum(y*x)-n*m_y*m_x\n",
    "    SS_xx = np.sum(x*x)-n*m_x*m_x\n",
    "    \n",
    "    #calculating regressions coeff\n",
    "    m= SS_xy/SS_xx   #this gives the slope of the best fit line\n",
    "    c = m_y-m*m_x     #this gives the intercept of the bestfit line\n",
    "    return (c,m)\n",
    "\n",
    "    "
   ]
  },
  {
   "cell_type": "code",
   "execution_count": 60,
   "metadata": {},
   "outputs": [],
   "source": [
    "def plot_regression_line (x,y,b):                    #this will plot the best fit line\n",
    "    plt.scatter(x,y,color=\"m\",marker = \"o\", s=40)\n",
    "    y_ploting=b[0]+(b[1]*x)\n",
    "    plt.plot(x,y_ploting,color= \"g\",label='reg line')\n",
    "    #putting labels\n",
    "    plt.xlabel('x')\n",
    "    plt.ylabel('y')\n",
    "    plt.show()"
   ]
  },
  {
   "cell_type": "code",
   "execution_count": 61,
   "metadata": {},
   "outputs": [],
   "source": [
    "def main():\n",
    "    x =np.array([2,3,5,7,9,11,13,15,17,19]) \n",
    "    y =np.array([4,5,7,10,15,16,18,19,19,21])\n",
    "    b = estimate_coef(x,y)\n",
    "    print(\"estimated coefficient : c={} m={}\".format(b[0],b[1]))\n",
    "    plot_regression_line(x,y,b)\n",
    "   "
   ]
  },
  {
   "cell_type": "code",
   "execution_count": 62,
   "metadata": {},
   "outputs": [],
   "source": [
    "if __name__==\"__name__\":\n",
    "    main()"
   ]
  },
  {
   "cell_type": "code",
   "execution_count": 63,
   "metadata": {},
   "outputs": [
    {
     "name": "stdout",
     "output_type": "stream",
     "text": [
      "estimated coefficient : c=2.8577820389900914 m=1.0437839565356346\n"
     ]
    },
    {
     "data": {
      "image/png": "[encoded data removed]",
      "text/plain": [
       "<Figure size 432x288 with 1 Axes>"
      ]
     },
     "metadata": {
      "needs_background": "light"
     },
     "output_type": "display_data"
    }
   ],
   "source": [
    "main()"
   ]
  },
  {
   "cell_type": "code",
   "execution_count": null,
   "metadata": {},
   "outputs": [],
   "source": []
  }
 ],
 "metadata": {
  "kernelspec": {
   "display_name": "Python 3",
   "language": "python",
   "name": "python3"
  },
  "language_info": {
   "codemirror_mode": {
    "name": "ipython",
    "version": 3
   },
   "file_extension": ".py",
   "mimetype": "text/x-python",
   "name": "python",
   "nbconvert_exporter": "python",
   "pygments_lexer": "ipython3",
   "version": "3.8.5"
  }
 },
 "nbformat": 4,
 "nbformat_minor": 4
}
